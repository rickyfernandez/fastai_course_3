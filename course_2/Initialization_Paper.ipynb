{
 "cells": [
  {
   "cell_type": "code",
   "execution_count": 1,
   "metadata": {},
   "outputs": [],
   "source": [
    "%load_ext autoreload\n",
    "%autoreload 2\n",
    "%matplotlib inline"
   ]
  },
  {
   "cell_type": "code",
   "execution_count": 2,
   "metadata": {},
   "outputs": [],
   "source": [
    "import gzip\n",
    "import pickle\n",
    "from pathlib import Path\n",
    "import matplotlib.pyplot as plt\n",
    "from functools import partial\n",
    "\n",
    "import torch\n",
    "from torch import nn\n",
    "from torch import tensor\n",
    "import torch.nn.functional as F\n",
    "\n",
    "from fastai import datasets\n",
    "from exp.utils import accuracy\n",
    "from exp.learner import Learner\n",
    "from exp.hooks import Hook, append_stats\n",
    "from exp.optimizer import SgdOptimizer\n",
    "from exp.callbacks import AvgStatsCallback, ProgressCallback, Recorder, CudaCallback\n",
    "from exp.data import normalize_to, Dataset, DataBunch, get_dls\n",
    "from exp.module import Lambda"
   ]
  },
  {
   "cell_type": "markdown",
   "metadata": {},
   "source": [
    "## Get Data"
   ]
  },
  {
   "cell_type": "code",
   "execution_count": 3,
   "metadata": {},
   "outputs": [],
   "source": [
    "def get_data(mb=True):\n",
    "    if mb:\n",
    "        fname = \"/home/ricky/Desktop/repos/fastai_course/course_2/data/mnist/mnist.pkl.gz\"\n",
    "    else:\n",
    "        fname = \"/Users/ricardofernandez/.fastai/data/mnist/mnist.pkl.gz\"\n",
    "    \n",
    "    path = datasets.download_data(\n",
    "        url=\"http://deeplearning.net/data/mnist/mnist.pkl\",\n",
    "        fname=fname, ext=\".gz\")\n",
    "    \n",
    "    with gzip.open(path, \"rb\") as f:\n",
    "        ((x_train, y_train), (x_test, y_test), _) = pickle.load(f, encoding=\"latin-1\")\n",
    "        \n",
    "    return map(tensor, (x_train, y_train, x_test, y_test))\n",
    "\n",
    "x_train, y_train, x_valid, y_valid = get_data()"
   ]
  },
  {
   "cell_type": "code",
   "execution_count": 4,
   "metadata": {},
   "outputs": [
    {
     "data": {
      "image/png": "[encoded data removed]",
      "text/plain": [
       "<Figure size 432x288 with 1 Axes>"
      ]
     },
     "metadata": {
      "needs_background": "light"
     },
     "output_type": "display_data"
    }
   ],
   "source": [
    "plt.imshow(x_train[0].view(28,28))\n",
    "plt.title(f\"Value: {y_train[0]}\");"
   ]
  },
  {
   "cell_type": "code",
   "execution_count": 5,
   "metadata": {},
   "outputs": [],
   "source": [
    "x_train, x_valid = normalize_to(x_train, x_valid)\n",
    "train_ds, valid_ds = Dataset(x_train, y_train), Dataset(x_valid, y_valid)"
   ]
  },
  {
   "cell_type": "code",
   "execution_count": 6,
   "metadata": {},
   "outputs": [],
   "source": [
    "batch_size = 512\n",
    "num_classes = y_train.max().item() + 1\n",
    "data = DataBunch(*get_dls(train_ds, valid_ds, batch_size), num_classes)"
   ]
  },
  {
   "cell_type": "code",
   "execution_count": 7,
   "metadata": {},
   "outputs": [
    {
     "data": {
      "text/plain": [
       "True"
      ]
     },
     "execution_count": 7,
     "metadata": {},
     "output_type": "execute_result"
    }
   ],
   "source": [
    "data.train_ds is train_ds"
   ]
  },
  {
   "cell_type": "code",
   "execution_count": 8,
   "metadata": {},
   "outputs": [
    {
     "data": {
      "text/plain": [
       "(torch.Size([512, 784]), torch.Size([512]))"
      ]
     },
     "execution_count": 8,
     "metadata": {},
     "output_type": "execute_result"
    }
   ],
   "source": [
    "x, y = next(iter(data.train_dl))\n",
    "x.shape, y.shape"
   ]
  },
  {
   "cell_type": "markdown",
   "metadata": {},
   "source": [
    "## Model "
   ]
  },
  {
   "cell_type": "code",
   "execution_count": 9,
   "metadata": {},
   "outputs": [],
   "source": [
    "def flatten(x):\n",
    "    return x.view(x.shape[0], -1)\n",
    "\n",
    "def mnist_resize(x):\n",
    "    return x.view(-1, 1, 28, 28)"
   ]
  },
  {
   "cell_type": "code",
   "execution_count": 10,
   "metadata": {},
   "outputs": [],
   "source": [
    "def get_cnn_model(data):\n",
    "    return nn.Sequential(\n",
    "        Lambda(mnist_resize),\n",
    "        nn.Conv2d( 1,  8, 5, padding=2, stride=2), nn.ReLU(),\n",
    "        nn.Conv2d( 8, 16, 3, padding=1, stride=2), nn.ReLU(),\n",
    "        nn.Conv2d(16, 32, 3, padding=1, stride=2), nn.ReLU(),\n",
    "        nn.Conv2d(32, 32, 3, padding=1, stride=2), nn.ReLU(),\n",
    "        nn.AdaptiveAvgPool2d(1),\n",
    "        Lambda(flatten),\n",
    "        nn.Linear(32, data.c)\n",
    "        )"
   ]
  },
  {
   "cell_type": "code",
   "execution_count": 11,
   "metadata": {},
   "outputs": [],
   "source": [
    "model = get_cnn_model(data)"
   ]
  },
  {
   "cell_type": "code",
   "execution_count": 12,
   "metadata": {},
   "outputs": [
    {
     "data": {
      "text/plain": [
       "Sequential(\n",
       "  (0): Lambda()\n",
       "  (1): Conv2d(1, 8, kernel_size=(5, 5), stride=(2, 2), padding=(2, 2))\n",
       "  (2): ReLU()\n",
       "  (3): Conv2d(8, 16, kernel_size=(3, 3), stride=(2, 2), padding=(1, 1))\n",
       "  (4): ReLU()\n",
       "  (5): Conv2d(16, 32, kernel_size=(3, 3), stride=(2, 2), padding=(1, 1))\n",
       "  (6): ReLU()\n",
       "  (7): Conv2d(32, 32, kernel_size=(3, 3), stride=(2, 2), padding=(1, 1))\n",
       "  (8): ReLU()\n",
       "  (9): AdaptiveAvgPool2d(output_size=1)\n",
       "  (10): Lambda()\n",
       "  (11): Linear(in_features=32, out_features=10, bias=True)\n",
       ")"
      ]
     },
     "execution_count": 12,
     "metadata": {},
     "output_type": "execute_result"
    }
   ],
   "source": [
    "model"
   ]
  },
  {
   "cell_type": "code",
   "execution_count": 13,
   "metadata": {},
   "outputs": [
    {
     "data": {
      "text/plain": [
       "[Lambda(),\n",
       " Conv2d(1, 8, kernel_size=(5, 5), stride=(2, 2), padding=(2, 2)),\n",
       " ReLU(),\n",
       " Conv2d(8, 16, kernel_size=(3, 3), stride=(2, 2), padding=(1, 1)),\n",
       " ReLU(),\n",
       " Conv2d(16, 32, kernel_size=(3, 3), stride=(2, 2), padding=(1, 1)),\n",
       " ReLU(),\n",
       " Conv2d(32, 32, kernel_size=(3, 3), stride=(2, 2), padding=(1, 1)),\n",
       " ReLU(),\n",
       " AdaptiveAvgPool2d(output_size=1),\n",
       " Lambda(),\n",
       " Linear(in_features=32, out_features=10, bias=True)]"
      ]
     },
     "execution_count": 13,
     "metadata": {},
     "output_type": "execute_result"
    }
   ],
   "source": [
    "list(model.children())"
   ]
  },
  {
   "cell_type": "code",
   "execution_count": 14,
   "metadata": {},
   "outputs": [
    {
     "data": {
      "text/plain": [
       "[Lambda(),\n",
       " Conv2d(1, 8, kernel_size=(5, 5), stride=(2, 2), padding=(2, 2)),\n",
       " ReLU(),\n",
       " Conv2d(8, 16, kernel_size=(3, 3), stride=(2, 2), padding=(1, 1))]"
      ]
     },
     "execution_count": 14,
     "metadata": {},
     "output_type": "execute_result"
    }
   ],
   "source": [
    "list(model[:4].children())"
   ]
  },
  {
   "cell_type": "code",
   "execution_count": 15,
   "metadata": {},
   "outputs": [
    {
     "data": {
      "text/plain": [
       "torch.Size([512, 10])"
      ]
     },
     "execution_count": 15,
     "metadata": {},
     "output_type": "execute_result"
    }
   ],
   "source": [
    "model(x).shape"
   ]
  },
  {
   "cell_type": "code",
   "execution_count": 16,
   "metadata": {},
   "outputs": [],
   "source": [
    "hooks = [Hook(l, append_stats) for l in model[1:4].children()]"
   ]
  },
  {
   "cell_type": "markdown",
   "metadata": {},
   "source": [
    "## Loss Function"
   ]
  },
  {
   "cell_type": "code",
   "execution_count": 17,
   "metadata": {},
   "outputs": [
    {
     "data": {
      "text/plain": [
       "tensor(2.3029, grad_fn=<NllLossBackward>)"
      ]
     },
     "execution_count": 17,
     "metadata": {},
     "output_type": "execute_result"
    }
   ],
   "source": [
    "loss = F.cross_entropy\n",
    "loss(model(x), y)"
   ]
  },
  {
   "cell_type": "markdown",
   "metadata": {},
   "source": [
    "## Optimizer"
   ]
  },
  {
   "cell_type": "code",
   "execution_count": 18,
   "metadata": {},
   "outputs": [
    {
     "data": {
      "text/plain": [
       "torch.Size([8, 1, 5, 5])\n",
       "torch.Size([8])\n",
       "torch.Size([16, 8, 3, 3])\n",
       "torch.Size([16])\n",
       "torch.Size([32, 16, 3, 3])\n",
       "torch.Size([32])\n",
       "torch.Size([32, 32, 3, 3])\n",
       "torch.Size([32])\n",
       "torch.Size([10, 32])\n",
       "torch.Size([10])"
      ]
     },
     "execution_count": 18,
     "metadata": {},
     "output_type": "execute_result"
    }
   ],
   "source": [
    "sgd = SgdOptimizer(model.parameters())\n",
    "sgd"
   ]
  },
  {
   "cell_type": "markdown",
   "metadata": {},
   "source": [
    "## Callbacks "
   ]
  },
  {
   "cell_type": "code",
   "execution_count": 19,
   "metadata": {},
   "outputs": [],
   "source": [
    "callbacks = [ProgressCallback, partial(AvgStatsCallback, accuracy), CudaCallback]"
   ]
  },
  {
   "cell_type": "markdown",
   "metadata": {},
   "source": [
    "## Learner "
   ]
  },
  {
   "cell_type": "code",
   "execution_count": 20,
   "metadata": {},
   "outputs": [
    {
     "data": {
      "text/plain": [
       "Sequential(\n",
       "  (0): Lambda()\n",
       "  (1): Conv2d(1, 8, kernel_size=(5, 5), stride=(2, 2), padding=(2, 2))\n",
       "  (2): ReLU()\n",
       "  (3): Conv2d(8, 16, kernel_size=(3, 3), stride=(2, 2), padding=(1, 1))\n",
       "  (4): ReLU()\n",
       "  (5): Conv2d(16, 32, kernel_size=(3, 3), stride=(2, 2), padding=(1, 1))\n",
       "  (6): ReLU()\n",
       "  (7): Conv2d(32, 32, kernel_size=(3, 3), stride=(2, 2), padding=(1, 1))\n",
       "  (8): ReLU()\n",
       "  (9): AdaptiveAvgPool2d(output_size=1)\n",
       "  (10): Lambda()\n",
       "  (11): Linear(in_features=32, out_features=10, bias=True)\n",
       ")"
      ]
     },
     "execution_count": 20,
     "metadata": {},
     "output_type": "execute_result"
    }
   ],
   "source": [
    "model"
   ]
  },
  {
   "cell_type": "code",
   "execution_count": 21,
   "metadata": {},
   "outputs": [],
   "source": [
    "from torch.optim import SGD"
   ]
  },
  {
   "cell_type": "code",
   "execution_count": 22,
   "metadata": {},
   "outputs": [],
   "source": [
    "learn = Learner(model, data, loss, lr=0.4, cb_funcs=callbacks, opt_func=SGD)"
   ]
  },
  {
   "cell_type": "code",
   "execution_count": 23,
   "metadata": {},
   "outputs": [
    {
     "data": {
      "text/html": [
       "<table border=\"1\" class=\"dataframe\">\n",
       "  <thead>\n",
       "    <tr style=\"text-align: left;\">\n",
       "      <th>epoch</th>\n",
       "      <th>train_loss</th>\n",
       "      <th>train_accuracy</th>\n",
       "      <th>valid_loss</th>\n",
       "      <th>valid_accuracy</th>\n",
       "      <th>time</th>\n",
       "    </tr>\n",
       "  </thead>\n",
       "  <tbody>\n",
       "    <tr>\n",
       "      <td>0</td>\n",
       "      <td>2.096906</td>\n",
       "      <td>0.264500</td>\n",
       "      <td>1.084192</td>\n",
       "      <td>0.606800</td>\n",
       "      <td>00:00</td>\n",
       "    </tr>\n",
       "  </tbody>\n",
       "</table>"
      ],
      "text/plain": [
       "<IPython.core.display.HTML object>"
      ]
     },
     "metadata": {},
     "output_type": "display_data"
    }
   ],
   "source": [
    "learn.fit(1)"
   ]
  },
  {
   "cell_type": "code",
   "execution_count": 24,
   "metadata": {},
   "outputs": [
    {
     "data": {
      "text/plain": [
       "<matplotlib.legend.Legend at 0x7f02b8464a50>"
      ]
     },
     "execution_count": 24,
     "metadata": {},
     "output_type": "execute_result"
    },
    {
     "data": {
      "image/png": "[encoded data removed]",
      "text/plain": [
       "<Figure size 432x288 with 1 Axes>"
      ]
     },
     "metadata": {
      "needs_background": "light"
     },
     "output_type": "display_data"
    }
   ],
   "source": [
    "for h in hooks:\n",
    "    plt.plot(h.stats[0])\n",
    "    h.remove()\n",
    "plt.legend(range(4))"
   ]
  },
  {
   "cell_type": "code",
   "execution_count": 27,
   "metadata": {},
   "outputs": [],
   "source": [
    "o = SGD(model.parameters(), lr=0.5)"
   ]
  },
  {
   "cell_type": "code",
   "execution_count": 29,
   "metadata": {},
   "outputs": [],
   "source": [
    "for k in o.param_groups:\n",
    "    pass"
   ]
  },
  {
   "cell_type": "code",
   "execution_count": 30,
   "metadata": {},
   "outputs": [
    {
     "data": {
      "text/plain": [
       "{'params': [Parameter containing:\n",
       "  tensor([[[[ 0.1214,  0.2004, -0.0281,  0.2291,  0.1292],\n",
       "            [ 0.1693,  0.3416,  0.3914,  0.1817,  0.1045],\n",
       "            [ 0.1578,  0.3457,  0.3104,  0.3993,  0.3667],\n",
       "            [ 0.3084,  0.2860,  0.1680,  0.3614,  0.1265],\n",
       "            [ 0.2504,  0.0178,  0.3041,  0.1252,  0.2295]]],\n",
       "  \n",
       "  \n",
       "          [[[ 0.0944, -0.1441,  0.2364,  0.0889,  0.1489],\n",
       "            [ 0.0131, -0.1006, -0.1009,  0.1062,  0.0875],\n",
       "            [-0.1585,  0.2659,  0.2634,  0.0498,  0.0604],\n",
       "            [-0.0802,  0.1361,  0.2058,  0.1262,  0.1150],\n",
       "            [ 0.0381,  0.1803, -0.0988,  0.1780, -0.1248]]],\n",
       "  \n",
       "  \n",
       "          [[[-0.0267,  0.0116,  0.0045, -0.0904,  0.1056],\n",
       "            [-0.0637, -0.1258, -0.0781,  0.1452, -0.0922],\n",
       "            [ 0.1067, -0.0119,  0.0684, -0.0224, -0.0962],\n",
       "            [-0.1498,  0.1743, -0.1739, -0.0207, -0.0126],\n",
       "            [-0.1157, -0.0922,  0.0419,  0.0233,  0.1269]]],\n",
       "  \n",
       "  \n",
       "          [[[-0.1320,  0.0447,  0.1463,  0.0619, -0.0845],\n",
       "            [ 0.1049,  0.0623, -0.1482, -0.0956, -0.1253],\n",
       "            [ 0.1178, -0.1792, -0.0408,  0.0956,  0.1151],\n",
       "            [ 0.1940, -0.0427, -0.0484, -0.1181, -0.0695],\n",
       "            [-0.0981, -0.1269, -0.0636, -0.1108, -0.0530]]],\n",
       "  \n",
       "  \n",
       "          [[[ 0.0065, -0.1246,  0.1188,  0.0622,  0.1597],\n",
       "            [ 0.1697, -0.1805,  0.0053, -0.0655, -0.1422],\n",
       "            [ 0.0083, -0.1753,  0.1172,  0.0793,  0.0751],\n",
       "            [ 0.1187,  0.1558,  0.0549, -0.0029,  0.0996],\n",
       "            [-0.1759,  0.0842, -0.0977, -0.1055,  0.0846]]],\n",
       "  \n",
       "  \n",
       "          [[[-0.0801,  0.1513,  0.1752,  0.1494, -0.0305],\n",
       "            [ 0.1922,  0.0070,  0.0651, -0.0693,  0.1468],\n",
       "            [ 0.0446,  0.0110,  0.2996,  0.0748,  0.0534],\n",
       "            [ 0.2080,  0.2101,  0.0703, -0.0179,  0.2116],\n",
       "            [-0.0621,  0.1740, -0.0209,  0.0733,  0.1357]]],\n",
       "  \n",
       "  \n",
       "          [[[-0.1883, -0.0654,  0.1290, -0.0157, -0.0646],\n",
       "            [-0.0931, -0.1150,  0.1605,  0.2117,  0.2147],\n",
       "            [ 0.1438,  0.1642, -0.0257,  0.2007,  0.2063],\n",
       "            [ 0.0081, -0.0228,  0.0286,  0.1427,  0.2191],\n",
       "            [-0.0298,  0.0827,  0.0874,  0.0297,  0.1835]]],\n",
       "  \n",
       "  \n",
       "          [[[ 0.1118, -0.0301,  0.1971, -0.0004,  0.2401],\n",
       "            [-0.1234, -0.0810, -0.1733, -0.0180,  0.1116],\n",
       "            [ 0.1122,  0.0955, -0.0948,  0.0949, -0.1889],\n",
       "            [-0.1366, -0.2116, -0.1825, -0.0114, -0.0755],\n",
       "            [ 0.0746, -0.0551,  0.0350, -0.1678, -0.0894]]]], device='cuda:0',\n",
       "         requires_grad=True), Parameter containing:\n",
       "  tensor([ 0.2665, -0.1071, -0.0348, -0.1069, -0.0994, -0.0885, -0.1216, -0.1592],\n",
       "         device='cuda:0', requires_grad=True), Parameter containing:\n",
       "  tensor([[[[-0.1498,  0.0562, -0.0989],\n",
       "            [ 0.0575,  0.2208,  0.1477],\n",
       "            [ 0.3427,  0.2549, -0.0018]],\n",
       "  \n",
       "           [[-0.0171,  0.0757,  0.0621],\n",
       "            [ 0.1619,  0.0071,  0.0802],\n",
       "            [ 0.1464,  0.0619, -0.0992]],\n",
       "  \n",
       "           [[ 0.0903,  0.0834, -0.0710],\n",
       "            [-0.0568, -0.0584,  0.0053],\n",
       "            [ 0.0967,  0.1195,  0.0684]],\n",
       "  \n",
       "           ...,\n",
       "  \n",
       "           [[-0.1261,  0.0065,  0.0498],\n",
       "            [ 0.0984, -0.0303, -0.0905],\n",
       "            [ 0.1446,  0.0998,  0.1323]],\n",
       "  \n",
       "           [[-0.0156,  0.1142,  0.0435],\n",
       "            [ 0.1709,  0.1721,  0.0525],\n",
       "            [-0.0075,  0.0689, -0.1598]],\n",
       "  \n",
       "           [[-0.0821,  0.0814, -0.0725],\n",
       "            [ 0.0702, -0.1050,  0.0707],\n",
       "            [ 0.0535, -0.0524, -0.1098]]],\n",
       "  \n",
       "  \n",
       "          [[[-0.0517, -0.0367, -0.1105],\n",
       "            [-0.0390,  0.0949,  0.0927],\n",
       "            [ 0.0403,  0.0038, -0.1182]],\n",
       "  \n",
       "           [[-0.0295, -0.0509,  0.0333],\n",
       "            [ 0.1150, -0.0758,  0.0384],\n",
       "            [ 0.0054,  0.0757, -0.0713]],\n",
       "  \n",
       "           [[-0.0347,  0.0755, -0.0328],\n",
       "            [-0.0439, -0.0140,  0.0977],\n",
       "            [-0.0262,  0.0225, -0.0793]],\n",
       "  \n",
       "           ...,\n",
       "  \n",
       "           [[-0.1219, -0.0504, -0.0842],\n",
       "            [ 0.1003, -0.0335,  0.1089],\n",
       "            [-0.0653, -0.0150, -0.0075]],\n",
       "  \n",
       "           [[-0.0073,  0.0700, -0.0999],\n",
       "            [ 0.0056,  0.0207,  0.0299],\n",
       "            [ 0.0539, -0.0562, -0.0710]],\n",
       "  \n",
       "           [[ 0.0918, -0.0355, -0.0865],\n",
       "            [ 0.0920, -0.0865,  0.0354],\n",
       "            [-0.0952,  0.1088, -0.0492]]],\n",
       "  \n",
       "  \n",
       "          [[[ 0.0616, -0.0896, -0.0278],\n",
       "            [-0.0298, -0.0622, -0.0216],\n",
       "            [ 0.1197, -0.0701, -0.0063]],\n",
       "  \n",
       "           [[-0.1067, -0.0321, -0.0602],\n",
       "            [ 0.1089,  0.0317,  0.0943],\n",
       "            [ 0.0833,  0.0198,  0.0970]],\n",
       "  \n",
       "           [[-0.0274, -0.0250,  0.1086],\n",
       "            [-0.0385, -0.0307,  0.0978],\n",
       "            [ 0.1090, -0.0957,  0.0838]],\n",
       "  \n",
       "           ...,\n",
       "  \n",
       "           [[-0.0729,  0.0999, -0.0334],\n",
       "            [-0.0876, -0.0916,  0.0173],\n",
       "            [-0.0560,  0.1270, -0.0257]],\n",
       "  \n",
       "           [[-0.0184, -0.0959, -0.1168],\n",
       "            [-0.0603, -0.0621, -0.0704],\n",
       "            [-0.0346,  0.0704,  0.0132]],\n",
       "  \n",
       "           [[ 0.0774, -0.0163, -0.0457],\n",
       "            [ 0.1117,  0.0549,  0.0568],\n",
       "            [-0.0686, -0.1149, -0.0982]]],\n",
       "  \n",
       "  \n",
       "          ...,\n",
       "  \n",
       "  \n",
       "          [[[-0.2527, -0.1525, -0.2029],\n",
       "            [-0.1204, -0.2052, -0.0021],\n",
       "            [-0.0965, -0.0140,  0.0226]],\n",
       "  \n",
       "           [[ 0.0030,  0.0134, -0.0569],\n",
       "            [-0.0847, -0.1046,  0.0129],\n",
       "            [ 0.0558, -0.1004, -0.0704]],\n",
       "  \n",
       "           [[-0.0180, -0.0206, -0.0117],\n",
       "            [-0.0142, -0.0263,  0.0949],\n",
       "            [-0.0270, -0.0845,  0.0766]],\n",
       "  \n",
       "           ...,\n",
       "  \n",
       "           [[-0.0254, -0.2268, -0.2064],\n",
       "            [-0.1067,  0.0266, -0.1410],\n",
       "            [ 0.0456,  0.0799,  0.1028]],\n",
       "  \n",
       "           [[-0.0155, -0.0453, -0.0444],\n",
       "            [-0.0523, -0.0749,  0.0417],\n",
       "            [-0.0208, -0.0488,  0.0231]],\n",
       "  \n",
       "           [[ 0.0160,  0.0106,  0.0848],\n",
       "            [ 0.0383,  0.0798,  0.0792],\n",
       "            [ 0.0159,  0.0734, -0.0286]]],\n",
       "  \n",
       "  \n",
       "          [[[-0.0031,  0.1378, -0.0540],\n",
       "            [ 0.1500,  0.0451, -0.0569],\n",
       "            [ 0.0682, -0.1056, -0.1289]],\n",
       "  \n",
       "           [[-0.0767,  0.1033,  0.0941],\n",
       "            [ 0.1013, -0.1092, -0.0503],\n",
       "            [ 0.0248, -0.0323,  0.0367]],\n",
       "  \n",
       "           [[ 0.1015,  0.0037, -0.0760],\n",
       "            [ 0.0716, -0.0500,  0.0818],\n",
       "            [-0.0363, -0.0094, -0.0648]],\n",
       "  \n",
       "           ...,\n",
       "  \n",
       "           [[-0.0558,  0.1001,  0.0058],\n",
       "            [ 0.1308, -0.0275, -0.0398],\n",
       "            [ 0.1270, -0.1001, -0.0334]],\n",
       "  \n",
       "           [[ 0.0575, -0.0401, -0.0990],\n",
       "            [ 0.1206,  0.0814,  0.0448],\n",
       "            [-0.0082, -0.0306, -0.0959]],\n",
       "  \n",
       "           [[ 0.0468, -0.0489, -0.0961],\n",
       "            [ 0.0771,  0.1106, -0.1166],\n",
       "            [-0.0426, -0.0780, -0.0293]]],\n",
       "  \n",
       "  \n",
       "          [[[-0.0978, -0.0042,  0.0166],\n",
       "            [ 0.0990, -0.0222, -0.0185],\n",
       "            [-0.0764, -0.1066, -0.0953]],\n",
       "  \n",
       "           [[ 0.0301,  0.1163, -0.0967],\n",
       "            [-0.0007, -0.0552, -0.0803],\n",
       "            [-0.0198, -0.0111, -0.0566]],\n",
       "  \n",
       "           [[-0.0235, -0.0327,  0.0818],\n",
       "            [ 0.1177, -0.0714,  0.1061],\n",
       "            [ 0.0921, -0.0246,  0.0027]],\n",
       "  \n",
       "           ...,\n",
       "  \n",
       "           [[-0.0228, -0.0980, -0.0093],\n",
       "            [-0.0005, -0.0289,  0.0102],\n",
       "            [ 0.0912, -0.0798, -0.0017]],\n",
       "  \n",
       "           [[-0.0351, -0.0978,  0.0107],\n",
       "            [ 0.1124, -0.0024, -0.0119],\n",
       "            [-0.0847, -0.0578, -0.1010]],\n",
       "  \n",
       "           [[ 0.0361, -0.1058,  0.0005],\n",
       "            [ 0.0748, -0.0881,  0.0563],\n",
       "            [-0.0162,  0.0452, -0.0209]]]], device='cuda:0', requires_grad=True), Parameter containing:\n",
       "  tensor([ 0.0073,  0.1010,  0.1350,  0.0532,  0.0978, -0.0450, -0.0481, -0.0706,\n",
       "           0.0640, -0.0894,  0.0837,  0.0345,  0.1447, -0.1787, -0.0263, -0.0263],\n",
       "         device='cuda:0', requires_grad=True), Parameter containing:\n",
       "  tensor([[[[ 3.1762e-02,  3.9431e-02,  2.6536e-02],\n",
       "            [-1.1794e-02,  8.2444e-03,  7.4192e-02],\n",
       "            [-6.3033e-02, -7.1252e-02,  6.1435e-02]],\n",
       "  \n",
       "           [[-1.5785e-02,  5.2598e-02,  6.3828e-03],\n",
       "            [-4.8909e-02,  2.6985e-04,  4.3167e-02],\n",
       "            [-2.9219e-02, -1.9069e-02,  5.6154e-02]],\n",
       "  \n",
       "           [[-1.0096e-02,  7.8799e-03, -7.1288e-02],\n",
       "            [ 3.1749e-03, -6.8404e-02, -4.8369e-02],\n",
       "            [-5.2720e-02,  6.4043e-02, -3.5572e-02]],\n",
       "  \n",
       "           ...,\n",
       "  \n",
       "           [[ 5.2697e-02, -7.6189e-02, -1.9627e-02],\n",
       "            [ 7.7008e-02, -9.0732e-02, -1.1720e-01],\n",
       "            [ 4.8576e-02,  3.4208e-02, -1.4947e-01]],\n",
       "  \n",
       "           [[-2.2421e-02, -4.3316e-02, -8.9687e-02],\n",
       "            [ 6.6015e-02, -6.6038e-03,  3.4448e-02],\n",
       "            [ 4.2796e-02, -5.8627e-02,  6.4516e-04]],\n",
       "  \n",
       "           [[-2.9187e-02,  3.4910e-02, -2.1872e-03],\n",
       "            [-1.1901e-02,  6.1254e-03, -2.9099e-03],\n",
       "            [ 4.7033e-02, -5.7608e-02, -5.2766e-02]]],\n",
       "  \n",
       "  \n",
       "          [[[-2.6713e-02,  9.4615e-02,  7.8004e-02],\n",
       "            [-7.1921e-02, -2.4852e-02, -1.1453e-03],\n",
       "            [-1.3296e-03, -1.1047e-01, -1.0296e-01]],\n",
       "  \n",
       "           [[-2.7216e-02, -2.2968e-02,  3.2667e-02],\n",
       "            [-7.7867e-02, -4.0879e-02,  4.8106e-02],\n",
       "            [-5.6376e-02, -8.1724e-02, -1.1650e-03]],\n",
       "  \n",
       "           [[-8.4025e-02, -6.4286e-02,  8.3940e-02],\n",
       "            [-6.2042e-02, -3.6158e-02, -5.0167e-02],\n",
       "            [-5.2335e-02, -4.9218e-02, -4.3040e-02]],\n",
       "  \n",
       "           ...,\n",
       "  \n",
       "           [[-2.0598e-01, -8.2118e-02, -1.3708e-01],\n",
       "            [-1.6012e-02, -7.9620e-02, -4.3385e-02],\n",
       "            [-1.3518e-01, -2.5339e-01, -2.6528e-01]],\n",
       "  \n",
       "           [[-3.7311e-02, -2.9260e-02, -3.0290e-02],\n",
       "            [-6.4265e-02,  1.3517e-02, -1.0490e-01],\n",
       "            [-4.0311e-02,  1.9858e-02, -5.0175e-02]],\n",
       "  \n",
       "           [[ 1.1735e-02, -5.4456e-02,  6.8559e-02],\n",
       "            [ 1.9274e-03, -2.0397e-02, -5.3947e-02],\n",
       "            [ 4.2732e-03, -3.2261e-02, -1.1527e-02]]],\n",
       "  \n",
       "  \n",
       "          [[[-5.8792e-02, -1.0002e-01, -7.4115e-02],\n",
       "            [ 6.0376e-03,  2.5391e-02,  1.5954e-01],\n",
       "            [-5.9868e-02,  1.5221e-01, -1.4015e-01]],\n",
       "  \n",
       "           [[-4.5705e-02,  4.2005e-02, -4.6167e-02],\n",
       "            [-4.9641e-02, -1.7681e-02,  4.5229e-02],\n",
       "            [ 3.9414e-03,  1.5542e-03,  6.1728e-02]],\n",
       "  \n",
       "           [[ 1.3655e-02,  2.9497e-04, -6.6395e-02],\n",
       "            [-2.1814e-02,  8.7393e-02, -4.2409e-02],\n",
       "            [-7.7498e-02, -3.2825e-02,  6.3886e-02]],\n",
       "  \n",
       "           ...,\n",
       "  \n",
       "           [[-1.0701e-01, -7.8843e-02, -1.3846e-01],\n",
       "            [-9.0007e-02, -8.8877e-02,  2.5201e-02],\n",
       "            [ 5.3336e-03,  2.9978e-02, -9.1372e-02]],\n",
       "  \n",
       "           [[ 5.1495e-02, -4.4920e-02,  1.3173e-02],\n",
       "            [ 1.5644e-02, -6.6833e-02,  1.0222e-02],\n",
       "            [ 8.9027e-03,  5.6083e-02,  1.1580e-01]],\n",
       "  \n",
       "           [[ 7.6568e-02, -4.6921e-03, -3.2746e-02],\n",
       "            [ 2.2109e-02, -5.8114e-02, -4.0016e-02],\n",
       "            [-4.7593e-02,  5.0918e-02,  4.9595e-02]]],\n",
       "  \n",
       "  \n",
       "          ...,\n",
       "  \n",
       "  \n",
       "          [[[ 3.5815e-02,  4.5224e-02, -2.5706e-02],\n",
       "            [-6.7774e-02,  4.1795e-03, -7.9791e-02],\n",
       "            [ 1.3164e-02,  2.2613e-02, -8.8627e-02]],\n",
       "  \n",
       "           [[ 6.7719e-02,  5.7632e-03,  3.3942e-02],\n",
       "            [-3.9649e-02, -1.1495e-02,  3.9505e-02],\n",
       "            [ 5.4044e-02,  4.8515e-02, -8.9063e-02]],\n",
       "  \n",
       "           [[-5.5042e-02,  4.5904e-02, -7.0889e-02],\n",
       "            [-6.2202e-02, -1.5774e-02,  6.6295e-02],\n",
       "            [-6.0501e-03, -2.1176e-02, -2.5518e-02]],\n",
       "  \n",
       "           ...,\n",
       "  \n",
       "           [[ 8.7792e-02, -3.4980e-02, -5.2258e-02],\n",
       "            [-7.7703e-02,  6.6484e-02, -2.6154e-02],\n",
       "            [-6.1234e-02, -1.7247e-03, -2.1805e-01]],\n",
       "  \n",
       "           [[-2.5801e-02,  4.8848e-02, -1.1676e-02],\n",
       "            [-1.1363e-03,  3.6183e-02, -2.2264e-02],\n",
       "            [-4.0407e-02,  2.9019e-02,  4.8488e-02]],\n",
       "  \n",
       "           [[ 3.1616e-02, -7.5457e-02, -3.2181e-02],\n",
       "            [ 9.8404e-03,  5.7151e-02,  2.8685e-02],\n",
       "            [ 7.1728e-02,  7.6735e-02, -1.6335e-02]]],\n",
       "  \n",
       "  \n",
       "          [[[-8.9739e-02, -7.3868e-02,  6.8408e-02],\n",
       "            [ 7.1675e-02, -1.5520e-02, -3.9218e-02],\n",
       "            [-6.1084e-02,  4.4452e-02, -8.1651e-02]],\n",
       "  \n",
       "           [[ 4.5268e-02, -4.7557e-02,  3.4509e-03],\n",
       "            [-4.6137e-02, -7.1510e-02,  5.2787e-02],\n",
       "            [ 3.1944e-02,  6.6750e-02, -2.2221e-02]],\n",
       "  \n",
       "           [[-5.3791e-02,  6.3943e-02,  5.1431e-02],\n",
       "            [-3.9217e-02,  1.4556e-05,  6.6629e-02],\n",
       "            [ 5.6295e-02,  6.2600e-02, -3.3523e-02]],\n",
       "  \n",
       "           ...,\n",
       "  \n",
       "           [[ 3.0595e-02, -2.1873e-02, -6.9698e-02],\n",
       "            [ 4.1025e-02,  4.5605e-02, -1.4744e-01],\n",
       "            [-3.8120e-02, -9.9038e-02,  4.0422e-03]],\n",
       "  \n",
       "           [[ 4.3653e-02, -1.3245e-02,  6.9034e-02],\n",
       "            [ 1.7321e-02, -3.3121e-02,  8.6114e-03],\n",
       "            [ 8.9885e-03,  3.1526e-02, -7.8973e-02]],\n",
       "  \n",
       "           [[ 7.1948e-02, -7.9767e-02,  1.7579e-02],\n",
       "            [ 1.8584e-02, -6.3748e-04,  1.8441e-02],\n",
       "            [-6.0605e-04,  8.1488e-02,  6.4118e-02]]],\n",
       "  \n",
       "  \n",
       "          [[[-6.2458e-03,  7.2433e-03, -3.3208e-02],\n",
       "            [-1.9104e-02, -1.1407e-01,  3.6525e-02],\n",
       "            [-3.7770e-03, -1.3564e-03,  1.9120e-02]],\n",
       "  \n",
       "           [[-2.8399e-02, -3.7483e-02, -2.7120e-02],\n",
       "            [ 3.7348e-02, -7.2977e-02, -1.3112e-02],\n",
       "            [ 7.8191e-02,  7.6817e-02, -5.4460e-02]],\n",
       "  \n",
       "           [[-5.1314e-02,  4.6792e-02, -4.1084e-02],\n",
       "            [ 4.5716e-02,  1.3875e-02, -6.1269e-02],\n",
       "            [-6.7130e-02, -4.3358e-02, -5.6706e-02]],\n",
       "  \n",
       "           ...,\n",
       "  \n",
       "           [[-3.6501e-02,  2.1175e-02, -1.7926e-02],\n",
       "            [-7.4481e-02, -9.0221e-02, -4.6399e-02],\n",
       "            [ 3.6258e-02, -6.9353e-02,  3.4986e-02]],\n",
       "  \n",
       "           [[-7.9858e-02,  7.1321e-02, -1.0222e-02],\n",
       "            [-6.6833e-03,  6.9796e-02, -7.5468e-02],\n",
       "            [ 5.6583e-02,  6.9572e-02, -6.2555e-02]],\n",
       "  \n",
       "           [[ 5.4868e-02, -8.1402e-02, -6.6843e-02],\n",
       "            [ 7.1980e-03, -3.5008e-02,  7.8119e-02],\n",
       "            [ 4.9897e-02, -5.9465e-02,  6.1739e-02]]]], device='cuda:0',\n",
       "         requires_grad=True), Parameter containing:\n",
       "  tensor([-0.0203, -0.0008, -0.0346, -0.0130,  0.0895, -0.0163, -0.0154, -0.0107,\n",
       "           0.0604, -0.0110,  0.0932,  0.0605,  0.0338, -0.0939,  0.1952,  0.0237,\n",
       "          -0.0231,  0.0631, -0.0245,  0.1107,  0.0081,  0.0017, -0.0787, -0.0778,\n",
       "           0.0198,  0.0555,  0.0712, -0.0817,  0.0418, -0.0227, -0.0109,  0.0411],\n",
       "         device='cuda:0', requires_grad=True), Parameter containing:\n",
       "  tensor([[[[ 6.2598e-02,  5.5946e-03,  4.1266e-02],\n",
       "            [-2.5762e-02, -5.9192e-02,  5.5388e-02],\n",
       "            [-2.0960e-02, -1.6348e-03, -2.4215e-02]],\n",
       "  \n",
       "           [[ 4.3831e-02, -5.9870e-03,  6.1956e-03],\n",
       "            [ 8.6298e-02,  3.6869e-02,  3.7155e-02],\n",
       "            [-1.3396e-02, -3.6371e-02, -7.3848e-02]],\n",
       "  \n",
       "           [[ 8.2474e-03,  1.0056e-02, -6.2278e-02],\n",
       "            [-1.2791e-01, -1.6900e-01, -1.4000e-01],\n",
       "            [ 6.9649e-03, -2.6295e-02, -6.8631e-02]],\n",
       "  \n",
       "           ...,\n",
       "  \n",
       "           [[-3.2232e-02,  1.1966e-02, -5.0489e-02],\n",
       "            [-5.7704e-02,  2.6524e-02,  1.6688e-02],\n",
       "            [-3.2496e-04, -2.5567e-02, -2.4477e-02]],\n",
       "  \n",
       "           [[-3.3931e-02,  2.6154e-02, -3.9045e-02],\n",
       "            [-1.9562e-02,  2.3191e-02, -1.6763e-02],\n",
       "            [ 4.9596e-02,  1.9276e-02, -1.4458e-02]],\n",
       "  \n",
       "           [[ 2.3324e-02, -5.9153e-02, -3.2759e-03],\n",
       "            [ 4.9219e-03, -1.1486e-01,  1.4175e-02],\n",
       "            [ 5.5751e-04, -1.0533e-01, -7.3767e-02]]],\n",
       "  \n",
       "  \n",
       "          [[[ 4.6849e-02, -4.0216e-02, -5.9805e-02],\n",
       "            [-5.1421e-02,  3.3709e-02, -2.4523e-02],\n",
       "            [-2.2276e-02,  8.1488e-03,  5.9871e-02]],\n",
       "  \n",
       "           [[ 6.7956e-02,  2.0569e-02, -1.6279e-02],\n",
       "            [-1.6892e-02,  5.5180e-02,  2.8222e-02],\n",
       "            [ 9.3492e-03, -3.4189e-02, -9.0730e-03]],\n",
       "  \n",
       "           [[-3.7428e-02, -2.9248e-02, -1.6047e-02],\n",
       "            [-1.0307e-02,  2.0184e-02, -2.9545e-02],\n",
       "            [ 4.1257e-02,  1.3423e-02, -2.2359e-02]],\n",
       "  \n",
       "           ...,\n",
       "  \n",
       "           [[-1.2586e-02,  6.3533e-02,  1.4287e-02],\n",
       "            [ 7.3849e-02, -3.8097e-02, -4.4165e-02],\n",
       "            [-5.3463e-02, -4.4535e-02, -5.1680e-03]],\n",
       "  \n",
       "           [[ 3.5797e-02, -3.0988e-02, -3.2317e-02],\n",
       "            [-2.4545e-02,  3.6740e-02,  1.5760e-02],\n",
       "            [ 2.9531e-02, -4.0492e-02, -4.2758e-02]],\n",
       "  \n",
       "           [[-5.5552e-03, -5.8228e-02, -5.3070e-02],\n",
       "            [ 1.3304e-02, -8.9675e-03,  2.6643e-02],\n",
       "            [ 2.0211e-02,  3.6445e-02,  2.7904e-02]]],\n",
       "  \n",
       "  \n",
       "          [[[-2.5421e-02, -1.8351e-02, -5.0206e-02],\n",
       "            [-5.7050e-02, -5.3435e-02,  5.1394e-03],\n",
       "            [-9.1293e-04, -1.2449e-01,  2.6083e-02]],\n",
       "  \n",
       "           [[-1.5074e-02, -6.5324e-03, -1.0853e-02],\n",
       "            [-2.0063e-01, -2.9290e-01, -1.9115e-01],\n",
       "            [ 6.7311e-02, -6.6602e-02,  7.6717e-02]],\n",
       "  \n",
       "           [[ 2.7106e-02,  4.1719e-02,  1.1981e-02],\n",
       "            [-9.9115e-02,  1.5174e-02, -7.7569e-02],\n",
       "            [-4.5985e-02,  4.0112e-02, -8.5167e-03]],\n",
       "  \n",
       "           ...,\n",
       "  \n",
       "           [[-5.8694e-02, -8.8835e-02,  3.6206e-02],\n",
       "            [-1.5144e-01, -8.2477e-02, -1.1657e-01],\n",
       "            [-4.1746e-02, -8.4762e-02,  4.2054e-02]],\n",
       "  \n",
       "           [[ 1.0304e-02, -2.8885e-02, -1.0898e-02],\n",
       "            [-7.1187e-03, -1.7854e-01,  9.8049e-03],\n",
       "            [ 7.2133e-02, -7.9165e-02, -2.0917e-02]],\n",
       "  \n",
       "           [[ 1.0535e-03,  4.5945e-02, -4.7335e-02],\n",
       "            [-4.3989e-02,  3.3868e-02,  3.5520e-02],\n",
       "            [-6.6238e-02, -4.2518e-02, -3.2823e-03]]],\n",
       "  \n",
       "  \n",
       "          ...,\n",
       "  \n",
       "  \n",
       "          [[[ 5.8149e-02, -2.4489e-02,  2.1090e-02],\n",
       "            [ 1.4058e-02,  4.9276e-02,  6.9264e-03],\n",
       "            [ 4.0270e-02,  2.6927e-02, -1.7949e-02]],\n",
       "  \n",
       "           [[-4.9242e-02,  4.5470e-02, -4.5924e-02],\n",
       "            [-9.2962e-03, -3.3777e-02,  1.9926e-02],\n",
       "            [ 2.3925e-02,  1.8035e-02, -5.5955e-02]],\n",
       "  \n",
       "           [[ 1.3374e-02, -2.6379e-02,  6.7139e-02],\n",
       "            [-2.0703e-02,  1.0641e-01,  2.1460e-03],\n",
       "            [ 6.9170e-02, -5.5233e-02,  1.9243e-02]],\n",
       "  \n",
       "           ...,\n",
       "  \n",
       "           [[-3.2089e-02, -6.2229e-02,  2.6386e-02],\n",
       "            [-6.3989e-03,  8.0281e-03, -4.7915e-02],\n",
       "            [ 4.5629e-02, -4.2647e-02,  3.0702e-02]],\n",
       "  \n",
       "           [[-2.6854e-02,  2.0138e-02,  4.7975e-02],\n",
       "            [ 1.4321e-02, -5.2425e-02, -1.5393e-02],\n",
       "            [ 6.9677e-02,  1.4494e-02,  5.7124e-02]],\n",
       "  \n",
       "           [[ 3.2928e-02,  2.5311e-02,  1.5194e-02],\n",
       "            [-4.4097e-02,  3.3273e-02,  5.4618e-04],\n",
       "            [ 5.6602e-02, -5.2649e-02,  5.8110e-02]]],\n",
       "  \n",
       "  \n",
       "          [[[-7.3162e-03,  9.1394e-03, -1.1533e-02],\n",
       "            [ 2.3426e-02,  5.1046e-02,  1.8971e-02],\n",
       "            [ 4.8842e-02, -2.2004e-02,  5.3668e-02]],\n",
       "  \n",
       "           [[-6.0729e-02, -2.4846e-02,  3.3424e-03],\n",
       "            [ 3.7119e-02, -3.6030e-02,  4.4134e-02],\n",
       "            [-4.4488e-02,  1.2215e-01,  9.4767e-02]],\n",
       "  \n",
       "           [[ 2.1052e-02,  4.0123e-02,  8.6464e-02],\n",
       "            [ 1.9921e-03,  2.3037e-04, -4.5449e-02],\n",
       "            [ 9.5667e-02,  1.7238e-02,  2.9150e-03]],\n",
       "  \n",
       "           ...,\n",
       "  \n",
       "           [[-6.1498e-03, -1.8075e-02, -5.8630e-02],\n",
       "            [-5.2653e-03, -1.1970e-02, -4.6759e-02],\n",
       "            [ 5.0001e-02, -2.3211e-02,  7.8751e-02]],\n",
       "  \n",
       "           [[-5.3770e-02, -2.7343e-02, -1.9386e-02],\n",
       "            [-4.2984e-02, -3.8465e-02,  5.7104e-02],\n",
       "            [ 4.7475e-02, -6.2614e-03,  2.9273e-02]],\n",
       "  \n",
       "           [[ 3.8283e-02, -4.2509e-02,  5.2231e-02],\n",
       "            [ 1.2814e-02, -2.4680e-02, -3.8191e-02],\n",
       "            [-6.0462e-02,  3.7727e-02,  2.3245e-02]]],\n",
       "  \n",
       "  \n",
       "          [[[-5.8383e-03,  1.8449e-02, -1.8265e-02],\n",
       "            [-1.5218e-02,  4.4021e-04, -5.0103e-02],\n",
       "            [-4.0216e-03, -1.4364e-02, -5.2652e-02]],\n",
       "  \n",
       "           [[-1.5798e-02, -3.0975e-02, -3.8378e-02],\n",
       "            [-2.7108e-02,  1.1674e-02, -3.7656e-02],\n",
       "            [-5.5246e-02, -3.7162e-02, -4.8414e-02]],\n",
       "  \n",
       "           [[-3.4984e-02,  8.6449e-03, -2.5248e-02],\n",
       "            [ 2.6967e-02, -9.1296e-03,  3.7204e-02],\n",
       "            [ 5.7941e-03, -6.6548e-02, -3.6741e-02]],\n",
       "  \n",
       "           ...,\n",
       "  \n",
       "           [[-1.8395e-02,  6.1822e-02,  5.6149e-02],\n",
       "            [-7.5479e-03,  1.5142e-02,  2.1831e-02],\n",
       "            [ 3.5228e-02, -2.7236e-02, -3.7553e-03]],\n",
       "  \n",
       "           [[-4.7577e-02,  3.7851e-02,  1.7655e-02],\n",
       "            [ 3.0510e-02,  6.4145e-03,  2.9557e-02],\n",
       "            [ 3.6136e-02, -6.6401e-03, -5.2855e-02]],\n",
       "  \n",
       "           [[ 3.9537e-02, -4.5300e-02, -6.8393e-03],\n",
       "            [-4.5328e-02, -5.4970e-02, -9.3154e-03],\n",
       "            [ 3.4148e-02, -1.7932e-02, -5.9288e-03]]]], device='cuda:0',\n",
       "         requires_grad=True), Parameter containing:\n",
       "  tensor([ 0.1474, -0.0760, -0.0972,  0.0323, -0.1529,  0.0191,  0.2108, -0.0575,\n",
       "           0.1929, -0.1247,  0.0307,  0.0769, -0.0522,  0.0117,  0.0044,  0.2522,\n",
       "          -0.0121, -0.0236,  0.0509,  0.0601, -0.0763, -0.0032, -0.0323, -0.0306,\n",
       "           0.1132,  0.2147,  0.0240,  0.0287, -0.0692,  0.1164,  0.0018,  0.0422],\n",
       "         device='cuda:0', requires_grad=True), Parameter containing:\n",
       "  tensor([[ 1.0382e-01, -1.2100e-01, -5.7772e-01, -3.0232e-01, -2.3360e-01,\n",
       "            1.1896e-01, -4.4553e-01, -4.7558e-02, -6.3025e-02, -1.5700e-01,\n",
       "           -1.9746e-01,  1.1697e-01, -9.7364e-02, -2.4040e-01,  1.9064e-01,\n",
       "           -4.1248e-01, -3.7029e-01, -1.0520e-01, -6.5596e-02, -5.0221e-02,\n",
       "            1.1757e-01, -2.7163e-01, -4.0831e-02, -1.0502e-01, -5.0658e-02,\n",
       "           -6.7304e-02,  1.8426e-01, -1.6765e-01,  5.9968e-01,  8.9174e-02,\n",
       "            2.2027e-01,  4.8690e-02],\n",
       "          [-1.4552e-02,  4.2035e-04, -1.7180e-01, -4.9866e-01, -2.2856e-01,\n",
       "           -3.0834e-02,  4.8906e-01,  1.5222e-01,  1.2838e-01, -1.1332e-01,\n",
       "            1.5937e-01, -8.7787e-02,  4.0286e-02,  3.7546e-02,  3.1662e-02,\n",
       "            3.7280e-01,  2.7172e-02, -1.2979e-01, -8.6711e-02, -2.2037e-02,\n",
       "            5.0193e-02, -4.7285e-01, -1.2953e-01, -1.1824e-01,  3.4906e-02,\n",
       "            2.4563e-01,  1.5044e-01, -1.8863e-01, -2.0151e-01, -7.8719e-02,\n",
       "           -9.8324e-02,  2.7083e-02],\n",
       "          [-3.3004e-01,  2.1573e-01,  6.2969e-02, -3.0949e-01,  5.5701e-01,\n",
       "           -7.9276e-02, -8.6726e-02, -2.4307e-02,  5.5298e-01,  5.3045e-02,\n",
       "            3.6177e-01,  1.4102e-02,  1.5203e-01, -1.6732e-01,  1.2964e-01,\n",
       "           -7.9048e-02,  4.9576e-02,  2.1117e-03, -8.5746e-02, -1.3364e-01,\n",
       "           -7.9183e-02, -5.6588e-02,  3.7275e-01, -5.8189e-02,  1.5182e-01,\n",
       "           -1.9167e-01, -1.3381e-01, -1.1455e-02, -2.3157e-02, -1.3655e-01,\n",
       "           -1.7136e-01, -1.3104e-01],\n",
       "          [ 9.3038e-02, -9.9691e-04,  6.0188e-01, -1.1211e-01,  2.6431e-01,\n",
       "            1.8671e-01,  7.9973e-02,  1.3425e-01, -2.8118e-01,  1.7430e-01,\n",
       "            3.4433e-01,  9.2302e-03, -1.1854e-02, -2.0454e-02, -3.8476e-02,\n",
       "            1.6696e-01, -1.6501e-01,  1.4289e-01, -1.1674e-01, -1.1249e-01,\n",
       "            3.1960e-02, -1.6966e-01,  2.0224e-01, -1.1605e-02, -1.4670e-01,\n",
       "           -2.2335e-01,  3.6781e-02, -1.7899e-01, -1.0133e-01,  1.8027e-01,\n",
       "           -6.6345e-04,  3.0822e-02],\n",
       "          [ 8.6220e-02, -8.8005e-02, -2.2362e-01,  3.3345e-01, -2.2441e-01,\n",
       "           -4.5043e-01, -2.3307e-01,  1.3054e-01, -5.0999e-02, -1.2271e-01,\n",
       "           -4.4022e-01,  2.2259e-01, -2.3107e-01,  1.8416e-01,  1.6112e-01,\n",
       "           -2.6201e-01, -1.6061e-02,  1.3163e-01,  1.0757e-01, -1.6910e-02,\n",
       "            1.6646e-01,  5.8268e-01, -4.8097e-02,  1.3844e-01, -6.3787e-02,\n",
       "            2.4557e-01,  6.4295e-02,  1.5141e-01, -2.8877e-01, -3.6200e-02,\n",
       "            8.7328e-02,  1.2494e-01],\n",
       "          [ 9.9491e-02,  7.7929e-02,  4.0550e-01, -2.2662e-02,  2.7570e-01,\n",
       "            2.1359e-01,  7.8383e-02, -9.6510e-02, -1.6203e-01,  3.0937e-02,\n",
       "           -7.9173e-02, -4.9313e-02,  1.0240e-02,  2.3169e-01,  1.5242e-01,\n",
       "           -1.2588e-01,  6.8407e-02,  1.1164e-01,  4.7785e-02, -6.8004e-03,\n",
       "           -4.6724e-03, -3.4160e-02, -1.0255e-01,  6.1907e-02, -1.7011e-01,\n",
       "            1.0854e-01,  1.4374e-01, -8.5353e-03,  2.8675e-01,  5.2863e-02,\n",
       "            1.5771e-01,  6.9574e-02],\n",
       "          [-3.4121e-01,  5.6581e-02, -1.5483e-01,  6.6442e-02, -2.2597e-01,\n",
       "           -1.2853e-01, -2.2368e-01, -7.2474e-03,  5.8310e-01, -1.3569e-01,\n",
       "           -3.2273e-01,  1.5679e-01,  1.7386e-01, -1.7810e-01, -6.2157e-02,\n",
       "           -2.6221e-01, -1.3560e-01,  6.1579e-02,  1.4980e-01, -1.7278e-02,\n",
       "            1.4881e-01,  4.6014e-01,  2.2434e-01,  8.5138e-02,  1.6496e-01,\n",
       "           -1.7558e-01, -2.8738e-02,  2.7256e-02, -2.3688e-02,  3.1302e-01,\n",
       "           -1.8915e-01,  2.3534e-02],\n",
       "          [-2.1694e-02,  7.3054e-02, -2.0212e-01,  3.3832e-02, -1.7748e-01,\n",
       "            5.0604e-01, -7.7753e-02, -1.1449e-01, -3.4235e-01, -1.8717e-01,\n",
       "            1.0578e-01,  1.5590e-01, -2.1668e-02, -7.4488e-02,  6.4910e-02,\n",
       "            3.4788e-02,  1.3585e-01, -1.7807e-01,  1.9627e-01,  2.0387e-02,\n",
       "            1.4645e-02, -1.0789e-01, -1.2005e-01, -1.3298e-01, -2.2953e-01,\n",
       "            3.1502e-02, -9.9854e-02, -1.0050e-01, -3.5416e-01, -2.4029e-01,\n",
       "            5.4562e-02, -1.9534e-02],\n",
       "          [ 2.8194e-01,  1.3102e-02,  2.9752e-01, -3.3743e-02, -1.2501e-01,\n",
       "            2.5647e-01,  1.3752e-01,  7.4341e-02, -7.3803e-02,  2.2661e-01,\n",
       "            2.6912e-01, -5.2094e-02, -1.4019e-01,  2.5390e-02,  2.0733e-02,\n",
       "           -1.9723e-02,  1.7003e-01,  9.2790e-02, -1.0665e-01, -1.2064e-01,\n",
       "           -1.7093e-02,  2.7640e-02,  8.7262e-02, -5.7312e-02, -4.8304e-02,\n",
       "            1.8756e-01,  6.1859e-02, -1.3944e-01,  4.8683e-02, -1.6519e-01,\n",
       "            2.0609e-01,  6.2617e-03],\n",
       "          [ 2.9758e-01, -2.9613e-02,  1.4071e-01,  4.6249e-01, -2.0585e-01,\n",
       "           -1.6170e-01,  1.3240e-01, -1.1369e-01, -2.8785e-01, -3.8583e-02,\n",
       "           -3.5564e-01,  1.1716e-01, -1.6838e-02,  2.2708e-01,  9.6736e-02,\n",
       "           -2.1674e-01, -1.6337e-01, -2.5327e-02,  2.6494e-01,  3.1239e-02,\n",
       "            1.0440e-01, -3.8313e-02, -2.1068e-01,  8.0592e-02, -1.3913e-01,\n",
       "            2.9019e-02, -1.7194e-01,  8.4255e-02, -6.3829e-02, -3.6716e-02,\n",
       "            9.5778e-02,  4.6526e-03]], device='cuda:0', requires_grad=True), Parameter containing:\n",
       "  tensor([ 0.1540,  0.5819, -0.3463, -0.2871, -0.2173, -0.2024, -0.2001,  0.2179,\n",
       "          -0.1352, -0.0989], device='cuda:0', requires_grad=True)],\n",
       " 'lr': 0.5,\n",
       " 'momentum': 0,\n",
       " 'dampening': 0,\n",
       " 'weight_decay': 0,\n",
       " 'nesterov': False}"
      ]
     },
     "execution_count": 30,
     "metadata": {},
     "output_type": "execute_result"
    }
   ],
   "source": [
    "k"
   ]
  },
  {
   "cell_type": "code",
   "execution_count": 31,
   "metadata": {},
   "outputs": [
    {
     "data": {
      "text/plain": [
       "dict_keys(['params', 'lr', 'momentum', 'dampening', 'weight_decay', 'nesterov'])"
      ]
     },
     "execution_count": 31,
     "metadata": {},
     "output_type": "execute_result"
    }
   ],
   "source": [
    "k.keys()"
   ]
  },
  {
   "cell_type": "code",
   "execution_count": null,
   "metadata": {},
   "outputs": [],
   "source": []
  }
 ],
 "metadata": {
  "kernelspec": {
   "display_name": "Python 3",
   "language": "python",
   "name": "python3"
  },
  "language_info": {
   "codemirror_mode": {
    "name": "ipython",
    "version": 3
   },
   "file_extension": ".py",
   "mimetype": "text/x-python",
   "name": "python",
   "nbconvert_exporter": "python",
   "pygments_lexer": "ipython3",
   "version": "3.7.4"
  }
 },
 "nbformat": 4,
 "nbformat_minor": 2
}
